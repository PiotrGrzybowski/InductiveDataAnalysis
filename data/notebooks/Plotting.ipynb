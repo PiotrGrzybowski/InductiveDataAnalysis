{
 "cells": [
  {
   "cell_type": "code",
   "execution_count": 122,
   "metadata": {},
   "outputs": [],
   "source": [
    "from sklearn.naive_bayes import GaussianNB, MultinomialNB\n",
    "from sklearn.utils import shuffle\n",
    "from sklearn.datasets import load_wine\n",
    "\n",
    "from data.scripts.load_data import load_glass, load_diabets\n",
    "import matplotlib.pyplot as plt\n",
    "from sklearn.metrics import recall_score, accuracy_score, f1_score, precision_score\n",
    "import pandas as pd\n",
    "import numpy as np\n",
    "import pandas as pd\n",
    "import seaborn as sns\n",
    "import matplotlib.pyplot as plt\n",
    "from scipy.stats import boxcox\n",
    "from collections import Counter\n",
    "from sklearn.model_selection import (train_test_split, KFold , StratifiedKFold, \n",
    "                                     cross_val_score, GridSearchCV, \n",
    "                                     learning_curve, validation_curve)\n",
    "\n",
    "from Lab1.classification import model_selection, accuracy\n",
    "from sklearn.metrics import recall_score, accuracy_score, f1_score, precision_score\n",
    "from sklearn.model_selection import KFold\n",
    "from sklearn.naive_bayes import GaussianNB\n",
    "from sklearn.datasets import load_wine\n",
    "from scipy.stats import boxcox\n",
    "from collections import Counter\n",
    "from sklearn.cluster import KMeans\n",
    "\n",
    "def accuracy(y_true, y_pred, average):\n",
    "    return accuracy_score(y_true, y_pred)\n",
    "\n",
    "\n",
    "def calculate_mean_and_deviation_from_scores(metrics, scores):\n",
    "    return {metric: (np.mean(scores[metric]), np.var(scores[metric])) for metric in metrics}\n",
    "\n",
    "\n",
    "def get_metrics_dict(metrics):\n",
    "    return {metric: [] for metric in metrics}\n",
    "\n",
    "\n",
    "def model_selection(data, target, model, metrics, splits):\n",
    "    x, y = shuffle(data, target)\n",
    "    scores = get_metrics_dict(metrics)\n",
    "\n",
    "    for train_index, test_index in KFold(n_splits=splits).split(x):\n",
    "        x_test, x_train, y_test, y_train = split_data_set(x, y, train_index, test_index)\n",
    "        y_prediction = model.fit(x_train, y_train).predict(x_test)\n",
    "\n",
    "        for metric in metrics:\n",
    "            scores[metric].append(metric(y_test, y_prediction, average='macro'))\n",
    "\n",
    "    return calculate_mean_and_deviation_from_scores(metrics, scores)\n",
    "\n",
    "\n",
    "def binning_data_set():\n",
    "    pass\n",
    "\n",
    "\n",
    "def split_data_set(x, y, train_index, test_index):\n",
    "    return x[test_index], x[train_index], y[test_index], y[train_index]\n",
    "\n",
    "def make_value(value):\n",
    "    return \"{0:.4f} +/- {1:.4f}\".format(value[0], value[1])\n",
    "\n",
    "%matplotlib inline\n",
    "plt.rcParams[\"figure.figsize\"] = (12, 9)"
   ]
  },
  {
   "cell_type": "code",
   "execution_count": 32,
   "metadata": {},
   "outputs": [],
   "source": [
    "metrics = [accuracy, f1_score, precision_score, recall_score]\n",
    "wine = load_wine()\n",
    "glass = load_glass()\n",
    "diabets = load_diabets()\n",
    "model = GaussianNB()\n",
    "model2 = MultinomialNB()\n",
    "\n",
    "data_set = glass"
   ]
  },
  {
   "cell_type": "code",
   "execution_count": 67,
   "metadata": {},
   "outputs": [],
   "source": [
    "padata = data_set['data']\n",
    "data_cut = np.zeros(padata.shape)\n",
    "k = 30\n",
    "for i in range(padata.shape[1]):\n",
    "    data_cut[:, i] = pd.cut(padata[:, i], k, labels=np.arange(1, k+1))"
   ]
  },
  {
   "cell_type": "code",
   "execution_count": 118,
   "metadata": {},
   "outputs": [
    {
     "name": "stdout",
     "output_type": "stream",
     "text": [
      "[[9. 7. 9. ... 6. 1. 1.]\n",
      " [5. 8. 7. ... 1. 1. 1.]\n",
      " [2. 7. 6. ... 1. 1. 1.]\n",
      " ...\n",
      " [9. 9. 1. ... 4. 2. 1.]\n",
      " [3. 9. 1. ... 4. 2. 1.]\n",
      " [4. 9. 1. ... 6. 2. 1.]]\n"
     ]
    }
   ],
   "source": [
    "data_qcut = np.zeros(padata.shape)\n",
    "k = 10\n",
    "for i in range(padata.shape[1]):\n",
    "    data_qcut[:, i] = pd.qcut(padata[:, i], k, labels=False, duplicates='drop') + 1\n",
    "\n",
    "print(data_qcut)"
   ]
  },
  {
   "cell_type": "code",
   "execution_count": 160,
   "metadata": {},
   "outputs": [
    {
     "name": "stdout",
     "output_type": "stream",
     "text": [
      "[[ 8. 20. 10. ... 22.  1.  1.]\n",
      " [28. 15. 30. ...  7.  1.  1.]\n",
      " [27. 17.  3. ...  7.  1.  1.]\n",
      " ...\n",
      " [20. 24.  2. ...  1. 21.  1.]\n",
      " [ 1. 24.  2. ... 25.  5.  1.]\n",
      " [30.  2.  2. ... 14. 11.  1.]]\n"
     ]
    }
   ],
   "source": [
    "data_means = np.zeros(padata.shape)\n",
    "k = 30\n",
    "for i in range(padata.shape[1]):\n",
    "    kmeans = KMeans(n_clusters=k).fit(padata[:, i].reshape(-1,1))\n",
    "    data_means[:, i] = kmeans.labels_ + 1\n",
    "\n",
    "print(data_means)"
   ]
  },
  {
   "cell_type": "code",
   "execution_count": 167,
   "metadata": {},
   "outputs": [
    {
     "name": "stderr",
     "output_type": "stream",
     "text": [
      "/home/developers/Libraries/Python/envs/gpu/lib/python3.5/site-packages/sklearn/metrics/classification.py:1135: UndefinedMetricWarning: F-score is ill-defined and being set to 0.0 in labels with no predicted samples.\n",
      "  'precision', 'predicted', average, warn_for)\n",
      "/home/developers/Libraries/Python/envs/gpu/lib/python3.5/site-packages/sklearn/metrics/classification.py:1135: UndefinedMetricWarning: Precision is ill-defined and being set to 0.0 in labels with no predicted samples.\n",
      "  'precision', 'predicted', average, warn_for)\n",
      "/home/developers/Libraries/Python/envs/gpu/lib/python3.5/site-packages/sklearn/metrics/classification.py:1137: UndefinedMetricWarning: F-score is ill-defined and being set to 0.0 in labels with no true samples.\n",
      "  'recall', 'true', average, warn_for)\n",
      "/home/developers/Libraries/Python/envs/gpu/lib/python3.5/site-packages/sklearn/metrics/classification.py:1137: UndefinedMetricWarning: Recall is ill-defined and being set to 0.0 in labels with no true samples.\n",
      "  'recall', 'true', average, warn_for)\n"
     ]
    },
    {
     "data": {
      "image/png": "[encoded data removed]",
      "text/plain": [
       "<matplotlib.figure.Figure at 0x7f8db1006e48>"
      ]
     },
     "metadata": {},
     "output_type": "display_data"
    }
   ],
   "source": [
    "\n",
    "scores = []\n",
    "folds = np.arange(2, 20)\n",
    "for i in folds:\n",
    "    scores.append(model_selection(data_means, data_set['target'], model, metrics, i))\n",
    "\n",
    "for metric in metrics:\n",
    "    means = [score[metric][0] for score in scores]\n",
    "    deviations = [score[metric][1] for score in scores]\n",
    "    plt.errorbar(folds, means, deviations, label=metric.__name__)\n",
    "\n",
    "    \n",
    "plt.ylim((0.0, 0.8))\n",
    "plt.title(\"Metrics values depend on cross validation folds. Discretization with {} values.\".format(k))\n",
    "plt.xlabel(\"Cross Validation Folds\")\n",
    "plt.ylabel(\"Value\")\n",
    "plt.legend()\n",
    "plt.show()"
   ]
  },
  {
   "cell_type": "code",
   "execution_count": null,
   "metadata": {},
   "outputs": [],
   "source": []
  },
  {
   "cell_type": "code",
   "execution_count": 165,
   "metadata": {},
   "outputs": [],
   "source": [
    "tables = pd.DataFrame(columns=['{}-F'.format(k) for k in folds], index=['accuracy','f1_score','precission', 'recall'])\n",
    "\n",
    "for k in folds:\n",
    "    tables['{}-F'.format(k)] = pd.Series({'accuracy': make_value(scores[k-2][metrics[0]]),\n",
    "                                          'f1_score': make_value(scores[k-2][metrics[1]]),\n",
    "                                          'precission': make_value(scores[k-2][metrics[2]]),\n",
    "                                          'recall': make_value(scores[k-2][metrics[3]])})"
   ]
  },
  {
   "cell_type": "code",
   "execution_count": 166,
   "metadata": {},
   "outputs": [
    {
     "data": {
      "text/html": [
       "<div>\n",
       "<style scoped>\n",
       "    .dataframe tbody tr th:only-of-type {\n",
       "        vertical-align: middle;\n",
       "    }\n",
       "\n",
       "    .dataframe tbody tr th {\n",
       "        vertical-align: top;\n",
       "    }\n",
       "\n",
       "    .dataframe thead th {\n",
       "        text-align: right;\n",
       "    }\n",
       "</style>\n",
       "<table border=\"1\" class=\"dataframe\">\n",
       "  <thead>\n",
       "    <tr style=\"text-align: right;\">\n",
       "      <th></th>\n",
       "      <th>2-F</th>\n",
       "      <th>3-F</th>\n",
       "      <th>4-F</th>\n",
       "      <th>5-F</th>\n",
       "      <th>6-F</th>\n",
       "      <th>7-F</th>\n",
       "      <th>8-F</th>\n",
       "      <th>9-F</th>\n",
       "      <th>10-F</th>\n",
       "      <th>11-F</th>\n",
       "      <th>12-F</th>\n",
       "      <th>13-F</th>\n",
       "      <th>14-F</th>\n",
       "      <th>15-F</th>\n",
       "      <th>16-F</th>\n",
       "      <th>17-F</th>\n",
       "      <th>18-F</th>\n",
       "      <th>19-F</th>\n",
       "    </tr>\n",
       "  </thead>\n",
       "  <tbody>\n",
       "    <tr>\n",
       "      <th>accuracy</th>\n",
       "      <td>0.3785 +/- 0.0000</td>\n",
       "      <td>0.3692 +/- 0.0040</td>\n",
       "      <td>0.3973 +/- 0.0083</td>\n",
       "      <td>0.3832 +/- 0.0021</td>\n",
       "      <td>0.4058 +/- 0.0093</td>\n",
       "      <td>0.4009 +/- 0.0077</td>\n",
       "      <td>0.4071 +/- 0.0061</td>\n",
       "      <td>0.4012 +/- 0.0050</td>\n",
       "      <td>0.3983 +/- 0.0116</td>\n",
       "      <td>0.4112 +/- 0.0104</td>\n",
       "      <td>0.4014 +/- 0.0145</td>\n",
       "      <td>0.3979 +/- 0.0101</td>\n",
       "      <td>0.4074 +/- 0.0062</td>\n",
       "      <td>0.4298 +/- 0.0220</td>\n",
       "      <td>0.4179 +/- 0.0142</td>\n",
       "      <td>0.3978 +/- 0.0155</td>\n",
       "      <td>0.4074 +/- 0.0156</td>\n",
       "      <td>0.4071 +/- 0.0216</td>\n",
       "    </tr>\n",
       "    <tr>\n",
       "      <th>f1_score</th>\n",
       "      <td>0.3256 +/- 0.0000</td>\n",
       "      <td>0.3351 +/- 0.0017</td>\n",
       "      <td>0.3912 +/- 0.0067</td>\n",
       "      <td>0.3488 +/- 0.0022</td>\n",
       "      <td>0.3778 +/- 0.0129</td>\n",
       "      <td>0.3605 +/- 0.0124</td>\n",
       "      <td>0.3295 +/- 0.0067</td>\n",
       "      <td>0.3668 +/- 0.0146</td>\n",
       "      <td>0.3575 +/- 0.0204</td>\n",
       "      <td>0.3386 +/- 0.0070</td>\n",
       "      <td>0.3494 +/- 0.0141</td>\n",
       "      <td>0.3425 +/- 0.0125</td>\n",
       "      <td>0.3431 +/- 0.0112</td>\n",
       "      <td>0.3544 +/- 0.0246</td>\n",
       "      <td>0.3315 +/- 0.0129</td>\n",
       "      <td>0.3047 +/- 0.0236</td>\n",
       "      <td>0.3013 +/- 0.0129</td>\n",
       "      <td>0.2971 +/- 0.0149</td>\n",
       "    </tr>\n",
       "    <tr>\n",
       "      <th>precission</th>\n",
       "      <td>0.3346 +/- 0.0002</td>\n",
       "      <td>0.3258 +/- 0.0024</td>\n",
       "      <td>0.3922 +/- 0.0031</td>\n",
       "      <td>0.3552 +/- 0.0041</td>\n",
       "      <td>0.3822 +/- 0.0114</td>\n",
       "      <td>0.3823 +/- 0.0122</td>\n",
       "      <td>0.3345 +/- 0.0056</td>\n",
       "      <td>0.3936 +/- 0.0105</td>\n",
       "      <td>0.3883 +/- 0.0154</td>\n",
       "      <td>0.3579 +/- 0.0165</td>\n",
       "      <td>0.3862 +/- 0.0148</td>\n",
       "      <td>0.3843 +/- 0.0147</td>\n",
       "      <td>0.3715 +/- 0.0111</td>\n",
       "      <td>0.3931 +/- 0.0263</td>\n",
       "      <td>0.3716 +/- 0.0123</td>\n",
       "      <td>0.3295 +/- 0.0253</td>\n",
       "      <td>0.3315 +/- 0.0166</td>\n",
       "      <td>0.3255 +/- 0.0188</td>\n",
       "    </tr>\n",
       "    <tr>\n",
       "      <th>recall</th>\n",
       "      <td>0.3895 +/- 0.0005</td>\n",
       "      <td>0.4338 +/- 0.0009</td>\n",
       "      <td>0.5154 +/- 0.0132</td>\n",
       "      <td>0.4322 +/- 0.0022</td>\n",
       "      <td>0.4291 +/- 0.0168</td>\n",
       "      <td>0.4103 +/- 0.0176</td>\n",
       "      <td>0.3818 +/- 0.0139</td>\n",
       "      <td>0.4051 +/- 0.0243</td>\n",
       "      <td>0.3888 +/- 0.0247</td>\n",
       "      <td>0.4048 +/- 0.0079</td>\n",
       "      <td>0.3900 +/- 0.0181</td>\n",
       "      <td>0.3692 +/- 0.0162</td>\n",
       "      <td>0.4076 +/- 0.0173</td>\n",
       "      <td>0.3798 +/- 0.0293</td>\n",
       "      <td>0.3563 +/- 0.0185</td>\n",
       "      <td>0.3111 +/- 0.0287</td>\n",
       "      <td>0.3312 +/- 0.0194</td>\n",
       "      <td>0.3090 +/- 0.0164</td>\n",
       "    </tr>\n",
       "  </tbody>\n",
       "</table>\n",
       "</div>"
      ],
      "text/plain": [
       "                          2-F                3-F                4-F  \\\n",
       "accuracy    0.3785 +/- 0.0000  0.3692 +/- 0.0040  0.3973 +/- 0.0083   \n",
       "f1_score    0.3256 +/- 0.0000  0.3351 +/- 0.0017  0.3912 +/- 0.0067   \n",
       "precission  0.3346 +/- 0.0002  0.3258 +/- 0.0024  0.3922 +/- 0.0031   \n",
       "recall      0.3895 +/- 0.0005  0.4338 +/- 0.0009  0.5154 +/- 0.0132   \n",
       "\n",
       "                          5-F                6-F                7-F  \\\n",
       "accuracy    0.3832 +/- 0.0021  0.4058 +/- 0.0093  0.4009 +/- 0.0077   \n",
       "f1_score    0.3488 +/- 0.0022  0.3778 +/- 0.0129  0.3605 +/- 0.0124   \n",
       "precission  0.3552 +/- 0.0041  0.3822 +/- 0.0114  0.3823 +/- 0.0122   \n",
       "recall      0.4322 +/- 0.0022  0.4291 +/- 0.0168  0.4103 +/- 0.0176   \n",
       "\n",
       "                          8-F                9-F               10-F  \\\n",
       "accuracy    0.4071 +/- 0.0061  0.4012 +/- 0.0050  0.3983 +/- 0.0116   \n",
       "f1_score    0.3295 +/- 0.0067  0.3668 +/- 0.0146  0.3575 +/- 0.0204   \n",
       "precission  0.3345 +/- 0.0056  0.3936 +/- 0.0105  0.3883 +/- 0.0154   \n",
       "recall      0.3818 +/- 0.0139  0.4051 +/- 0.0243  0.3888 +/- 0.0247   \n",
       "\n",
       "                         11-F               12-F               13-F  \\\n",
       "accuracy    0.4112 +/- 0.0104  0.4014 +/- 0.0145  0.3979 +/- 0.0101   \n",
       "f1_score    0.3386 +/- 0.0070  0.3494 +/- 0.0141  0.3425 +/- 0.0125   \n",
       "precission  0.3579 +/- 0.0165  0.3862 +/- 0.0148  0.3843 +/- 0.0147   \n",
       "recall      0.4048 +/- 0.0079  0.3900 +/- 0.0181  0.3692 +/- 0.0162   \n",
       "\n",
       "                         14-F               15-F               16-F  \\\n",
       "accuracy    0.4074 +/- 0.0062  0.4298 +/- 0.0220  0.4179 +/- 0.0142   \n",
       "f1_score    0.3431 +/- 0.0112  0.3544 +/- 0.0246  0.3315 +/- 0.0129   \n",
       "precission  0.3715 +/- 0.0111  0.3931 +/- 0.0263  0.3716 +/- 0.0123   \n",
       "recall      0.4076 +/- 0.0173  0.3798 +/- 0.0293  0.3563 +/- 0.0185   \n",
       "\n",
       "                         17-F               18-F               19-F  \n",
       "accuracy    0.3978 +/- 0.0155  0.4074 +/- 0.0156  0.4071 +/- 0.0216  \n",
       "f1_score    0.3047 +/- 0.0236  0.3013 +/- 0.0129  0.2971 +/- 0.0149  \n",
       "precission  0.3295 +/- 0.0253  0.3315 +/- 0.0166  0.3255 +/- 0.0188  \n",
       "recall      0.3111 +/- 0.0287  0.3312 +/- 0.0194  0.3090 +/- 0.0164  "
      ]
     },
     "execution_count": 166,
     "metadata": {},
     "output_type": "execute_result"
    }
   ],
   "source": [
    "tables"
   ]
  },
  {
   "cell_type": "code",
   "execution_count": 14,
   "metadata": {},
   "outputs": [],
   "source": []
  },
  {
   "cell_type": "code",
   "execution_count": 17,
   "metadata": {},
   "outputs": [
    {
     "data": {
      "text/plain": [
       "(214, 9)"
      ]
     },
     "execution_count": 17,
     "metadata": {},
     "output_type": "execute_result"
    }
   ],
   "source": []
  },
  {
   "cell_type": "code",
   "execution_count": 21,
   "metadata": {},
   "outputs": [],
   "source": []
  },
  {
   "cell_type": "code",
   "execution_count": 22,
   "metadata": {},
   "outputs": [
    {
     "data": {
      "text/plain": [
       "array([[1., 1., 3., ..., 1., 0., 0.],\n",
       "       [1., 1., 3., ..., 0., 0., 0.],\n",
       "       [0., 1., 3., ..., 0., 0., 0.],\n",
       "       ...,\n",
       "       [1., 2., 0., ..., 1., 2., 0.],\n",
       "       [0., 2., 0., ..., 1., 1., 0.],\n",
       "       [1., 2., 0., ..., 1., 2., 0.]])"
      ]
     },
     "execution_count": 22,
     "metadata": {},
     "output_type": "execute_result"
    }
   ],
   "source": []
  },
  {
   "cell_type": "code",
   "execution_count": null,
   "metadata": {},
   "outputs": [],
   "source": []
  },
  {
   "cell_type": "code",
   "execution_count": null,
   "metadata": {},
   "outputs": [],
   "source": []
  },
  {
   "cell_type": "code",
   "execution_count": null,
   "metadata": {},
   "outputs": [],
   "source": []
  }
 ],
 "metadata": {
  "kernelspec": {
   "display_name": "Python 3",
   "language": "python",
   "name": "python3"
  },
  "language_info": {
   "codemirror_mode": {
    "name": "ipython",
    "version": 3
   },
   "file_extension": ".py",
   "mimetype": "text/x-python",
   "name": "python",
   "nbconvert_exporter": "python",
   "pygments_lexer": "ipython3",
   "version": "3.5.3"
  }
 },
 "nbformat": 4,
 "nbformat_minor": 2
}
