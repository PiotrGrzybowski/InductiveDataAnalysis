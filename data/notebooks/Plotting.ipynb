{
 "cells": [
  {
   "cell_type": "code",
   "execution_count": 18,
   "metadata": {},
   "outputs": [],
   "source": [
    "from sklearn.naive_bayes import GaussianNB, MultinomialNB\n",
    "from sklearn.utils import shuffle\n",
    "from sklearn.datasets import load_wine\n",
    "\n",
    "import matplotlib.pyplot as plt\n",
    "from sklearn.metrics import recall_score, accuracy_score, f1_score, precision_score\n",
    "import pandas as pd\n",
    "import numpy as np\n",
    "import pandas as pd\n",
    "import seaborn as sns\n",
    "import matplotlib.pyplot as plt\n",
    "from scipy.stats import boxcox\n",
    "from collections import Counter\n",
    "from sklearn.model_selection import (train_test_split, KFold , StratifiedKFold, \n",
    "                                     cross_val_score, GridSearchCV, \n",
    "                                     learning_curve, validation_curve)\n",
    "\n",
    "from sklearn.metrics import recall_score, accuracy_score, f1_score, precision_score\n",
    "from sklearn.model_selection import KFold\n",
    "from sklearn.naive_bayes import GaussianNB\n",
    "from sklearn.datasets import load_wine\n",
    "from scipy.stats import boxcox\n",
    "from collections import Counter\n",
    "from sklearn.cluster import KMeans\n",
    "\n",
    "GLASS_ORIGIN = '/Users/Piotr/Workspace/DataScience/glass.data'\n",
    "\n",
    "def load_glass():\n",
    "    glass = pd.read_csv(GLASS_ORIGIN)\n",
    "    return {'data': glass[glass.columns.values[1:-1]].as_matrix(),\n",
    "            'target': glass[glass.columns.values[-1]].as_matrix()}\n",
    "\n",
    "def accuracy(y_true, y_pred, average):\n",
    "    return accuracy_score(y_true, y_pred)\n",
    "\n",
    "\n",
    "def calculate_mean_and_deviation_from_scores(metrics, scores):\n",
    "    return {metric: (np.mean(scores[metric]), np.var(scores[metric])) for metric in metrics}\n",
    "\n",
    "\n",
    "def get_metrics_dict(metrics):\n",
    "    return {metric: [] for metric in metrics}\n",
    "\n",
    "\n",
    "def model_selection(data, target, model, metrics, splits):\n",
    "    x, y = shuffle(data, target)\n",
    "    scores = get_metrics_dict(metrics)\n",
    "    for train_index, test_index in KFold(n_splits=splits).split(x):\n",
    "        x_test, x_train, y_test, y_train = split_data_set(x, y, train_index, test_index)\n",
    "        y_prediction = model.fit(x_train, y_train).predict(x_test)\n",
    "\n",
    "        for metric in metrics:\n",
    "            scores[metric].append(metric(y_test, y_prediction, average='macro'))\n",
    "        \n",
    "    print(scores[f1_score])\n",
    "    print(\"dddddddddddddddd\")\n",
    "    print(calculate_mean_and_deviation_from_scores(metrics, scores))\n",
    "    return calculate_mean_and_deviation_from_scores(metrics, scores)\n",
    "\n",
    "\n",
    "def binning_data_set():\n",
    "    pass\n",
    "\n",
    "\n",
    "def split_data_set(x, y, train_index, test_index):\n",
    "    return x[test_index], x[train_index], y[test_index], y[train_index]\n",
    "\n",
    "def make_value(value):\n",
    "    return \"{0:.4f} +/- {1:.4f}\".format(value[0], value[1])\n",
    "\n",
    "%matplotlib inline\n",
    "plt.rcParams[\"figure.figsize\"] = (12, 9)"
   ]
  },
  {
   "cell_type": "code",
   "execution_count": 10,
   "metadata": {},
   "outputs": [],
   "source": [
    "metrics = [accuracy, f1_score, precision_score, recall_score]\n",
    "# wine = load_wine()\n",
    "glass = load_glass()\n",
    "# diabets = load_diabets()\n",
    "model = GaussianNB()\n",
    "model2 = MultinomialNB()\n",
    "\n",
    "data_set = glass\n",
    "k = 20"
   ]
  },
  {
   "cell_type": "code",
   "execution_count": 67,
   "metadata": {},
   "outputs": [],
   "source": [
    "padata = data_set['data']\n",
    "data_cut = np.zeros(padata.shape)\n",
    "k = 30\n",
    "for i in range(padata.shape[1]):\n",
    "    data_cut[:, i] = pd.cut(padata[:, i], k, labels=np.arange(1, k+1))"
   ]
  },
  {
   "cell_type": "code",
   "execution_count": 118,
   "metadata": {},
   "outputs": [
    {
     "name": "stdout",
     "output_type": "stream",
     "text": [
      "[[9. 7. 9. ... 6. 1. 1.]\n",
      " [5. 8. 7. ... 1. 1. 1.]\n",
      " [2. 7. 6. ... 1. 1. 1.]\n",
      " ...\n",
      " [9. 9. 1. ... 4. 2. 1.]\n",
      " [3. 9. 1. ... 4. 2. 1.]\n",
      " [4. 9. 1. ... 6. 2. 1.]]\n"
     ]
    }
   ],
   "source": [
    "data_qcut = np.zeros(padata.shape)\n",
    "k = 10\n",
    "for i in range(padata.shape[1]):\n",
    "    data_qcut[:, i] = pd.qcut(padata[:, i], k, labels=False, duplicates='drop') + 1\n",
    "\n",
    "print(data_qcut)"
   ]
  },
  {
   "cell_type": "code",
   "execution_count": 160,
   "metadata": {},
   "outputs": [
    {
     "name": "stdout",
     "output_type": "stream",
     "text": [
      "[[ 8. 20. 10. ... 22.  1.  1.]\n",
      " [28. 15. 30. ...  7.  1.  1.]\n",
      " [27. 17.  3. ...  7.  1.  1.]\n",
      " ...\n",
      " [20. 24.  2. ...  1. 21.  1.]\n",
      " [ 1. 24.  2. ... 25.  5.  1.]\n",
      " [30.  2.  2. ... 14. 11.  1.]]\n"
     ]
    }
   ],
   "source": [
    "data_means = np.zeros(padata.shape)\n",
    "k = 30\n",
    "for i in range(padata.shape[1]):\n",
    "    kmeans = KMeans(n_clusters=k).fit(padata[:, i].reshape(-1,1))\n",
    "    data_means[:, i] = kmeans.labels_ + 1\n",
    "\n",
    "print(data_means)"
   ]
  },
  {
   "cell_type": "code",
   "execution_count": 19,
   "metadata": {},
   "outputs": [
    {
     "name": "stdout",
     "output_type": "stream",
     "text": [
      "[0.4868326220573826, 0.41443377822688166]\n",
      "dddddddddddddddd\n",
      "{<function accuracy at 0x113472268>: (0.397196261682243, 0.0026421521530264657), <function f1_score at 0x111ad2620>: (0.45063320014213215, 0.0013103981469983158), <function precision_score at 0x111ad2840>: (0.4721653346653347, 0.0037799839392517534), <function recall_score at 0x111ad28c8>: (0.5099392681049029, 0.00023936672402569056)}\n",
      "[0.535009501410299, 0.28061129691564474, 0.40438581214443287]\n",
      "dddddddddddddddd\n",
      "{<function accuracy at 0x113472268>: (0.3965179968701095, 0.011063063741517089), <function f1_score at 0x111ad2620>: (0.4066688701567922, 0.010789013918627889), <function precision_score at 0x111ad2840>: (0.4334750840185622, 0.010970463083264928), <function recall_score at 0x111ad28c8>: (0.46626850515739404, 0.005584695535355871)}\n",
      "[0.5754975716216026, 0.4779058075227705, 0.4138475903181786, 0.3466235857540205]\n",
      "dddddddddddddddd\n",
      "{<function accuracy at 0x113472268>: (0.42933263452131376, 0.013391905537316125), <function f1_score at 0x111ad2620>: (0.45346863880414306, 0.007118482125990344), <function precision_score at 0x111ad2840>: (0.4807616681407004, 0.008161929002107977), <function recall_score at 0x111ad28c8>: (0.5136143053712713, 0.007203446391228397)}\n",
      "[0.43574879227053137, 0.4980994152046783, 0.5086326928432191, 0.3571789321789322, 0.37592592592592594]\n",
      "dddddddddddddddd\n",
      "{<function accuracy at 0x113472268>: (0.45836101882613517, 0.0035872059297849318), <function f1_score at 0x111ad2620>: (0.4351171516846574, 0.003789933309262996), <function precision_score at 0x111ad2840>: (0.46375482753487873, 0.009877450849958922), <function recall_score at 0x111ad28c8>: (0.5105176386794034, 0.006074043773630225)}\n",
      "[0.37878787878787884, 0.4381535947712418, 0.44937343358395987, 0.35889724310776944, 0.358974358974359, 0.5193486590038314]\n",
      "dddddddddddddddd\n",
      "{<function accuracy at 0x113472268>: (0.4711640211640211, 0.0054801097393689996), <function f1_score at 0x111ad2620>: (0.4172558613715068, 0.0033622400943064995), <function precision_score at 0x111ad2840>: (0.4412826046597977, 0.002305542372707676), <function recall_score at 0x111ad28c8>: (0.48464005130671794, 0.004903362039177448)}\n",
      "[0.42857142857142855, 0.5389957264957265, 0.5584415584415584, 0.23985890652557318, 0.23131313131313133, 0.45740740740740743, 0.4568376068376068]\n",
      "dddddddddddddddd\n",
      "{<function accuracy at 0x113472268>: (0.43886328725038404, 0.012969436126861427), <function f1_score at 0x111ad2620>: (0.4159179665132046, 0.014870392544785815), <function precision_score at 0x111ad2840>: (0.4404473619284544, 0.021506159289909194), <function recall_score at 0x111ad28c8>: (0.47555486841201133, 0.019668832607757817)}\n",
      "[0.3022222222222222, 0.3345238095238095, 0.4759199134199134, 0.3701190476190477, 0.6528138528138528, 0.5046933573249363, 0.1976190476190476, 0.4071225071225071]\n",
      "dddddddddddddddd\n",
      "{<function accuracy at 0x113472268>: (0.45192307692307687, 0.014635001948036137), <function f1_score at 0x111ad2620>: (0.4056292197081671, 0.017016893529501868), <function precision_score at 0x111ad2840>: (0.44913316020852784, 0.014910301273984749), <function recall_score at 0x111ad28c8>: (0.42995488307988305, 0.015517386717855446)}\n",
      "[0.5699786324786325, 0.5154621848739496, 0.22463768115942032, 0.496693657219973, 0.3034188034188034, 0.5333333333333333, 0.30317460317460315, 0.4083333333333334, 0.3878833584715937]\n",
      "dddddddddddddddd\n",
      "{<function accuracy at 0x113472268>: (0.42995169082125606, 0.01687174729865341), <function f1_score at 0x111ad2620>: (0.41587950971818244, 0.01297261651316485), <function precision_score at 0x111ad2840>: (0.4403970515081626, 0.005604645499704715), <function recall_score at 0x111ad28c8>: (0.46078403078403085, 0.0181483072567114)}\n",
      "[0.44222222222222224, 0.4055555555555555, 0.3974235104669887, 0.5923076923076923, 0.37625272331154686, 0.25092592592592594, 0.4263227513227514, 0.4696969696969697, 0.41904761904761906, 0.43915343915343913]\n",
      "dddddddddddddddd\n",
      "{<function accuracy at 0x113472268>: (0.4567099567099566, 0.007334944997282658), <function f1_score at 0x111ad2620>: (0.42189084090107115, 0.006424374903460277), <function precision_score at 0x111ad2840>: (0.45790478040478033, 0.014279339497093275), <function recall_score at 0x111ad28c8>: (0.48187433862433854, 0.008517912014291317)}\n",
      "[0.43111111111111117, 0.573076923076923, 0.28585858585858587, 0.28216374269005845, 0.4583333333333333, 0.45714285714285713, 0.4314814814814814, 0.1275252525252525, 0.39627329192546584, 0.4642246642246642, 0.29333333333333333]\n",
      "dddddddddddddddd\n",
      "{<function accuracy at 0x113472268>: (0.45813397129186595, 0.016001579634165885), <function f1_score at 0x111ad2620>: (0.38186587060936966, 0.013785271324780609), <function precision_score at 0x111ad2840>: (0.4139829698920608, 0.018597247675056307), <function recall_score at 0x111ad28c8>: (0.4281385281385281, 0.019508755484134273)}\n",
      "[0.47450980392156855, 0.4004761904761905, 0.28703703703703703, 0.4093137254901961, 0.3433333333333334, 0.5017316017316017, 0.645, 0.3928571428571429, 0.28888888888888886, 0.4583333333333333, 0.46545454545454545, 0.40158730158730155]\n",
      "dddddddddddddddd\n",
      "{<function accuracy at 0x113472268>: (0.5149782135076253, 0.016497320000379723), <function f1_score at 0x111ad2620>: (0.4223769086759283, 0.00883852714718783), <function precision_score at 0x111ad2840>: (0.42316489066489066, 0.008683229948103268), <function recall_score at 0x111ad28c8>: (0.4755246913580247, 0.0108019631114906)}\n"
     ]
    },
    {
     "name": "stderr",
     "output_type": "stream",
     "text": [
      "/Users/Piotr/Workspace/Envs/data-science/lib/python3.6/site-packages/sklearn/metrics/classification.py:1135: UndefinedMetricWarning: F-score is ill-defined and being set to 0.0 in labels with no predicted samples.\n",
      "  'precision', 'predicted', average, warn_for)\n",
      "/Users/Piotr/Workspace/Envs/data-science/lib/python3.6/site-packages/sklearn/metrics/classification.py:1135: UndefinedMetricWarning: Precision is ill-defined and being set to 0.0 in labels with no predicted samples.\n",
      "  'precision', 'predicted', average, warn_for)\n",
      "/Users/Piotr/Workspace/Envs/data-science/lib/python3.6/site-packages/sklearn/metrics/classification.py:1137: UndefinedMetricWarning: F-score is ill-defined and being set to 0.0 in labels with no true samples.\n",
      "  'recall', 'true', average, warn_for)\n",
      "/Users/Piotr/Workspace/Envs/data-science/lib/python3.6/site-packages/sklearn/metrics/classification.py:1137: UndefinedMetricWarning: Recall is ill-defined and being set to 0.0 in labels with no true samples.\n",
      "  'recall', 'true', average, warn_for)\n"
     ]
    },
    {
     "name": "stdout",
     "output_type": "stream",
     "text": [
      "[0.5250544662309368, 0.24696969696969698, 0.165, 0.3314285714285714, 0.7142857142857143, 0.27189542483660134, 0.47875816993464054, 0.3869047619047619, 0.5047619047619047, 0.5, 0.5222222222222223, 0.6243223443223442, 0.25]\n",
      "dddddddddddddddd\n",
      "{<function accuracy at 0x113472268>: (0.4920814479638009, 0.021732029698409126), <function f1_score at 0x111ad2620>: (0.4247387136074919, 0.024717104004187397), <function precision_score at 0x111ad2840>: (0.4689410945180176, 0.022805645409707403), <function recall_score at 0x111ad28c8>: (0.4688400488400487, 0.03396890181450622)}\n",
      "[0.4013986013986014, 0.3, 0.5206349206349207, 0.4742857142857143, 0.5923076923076923, 0.34, 0.18333333333333335, 0.4342105263157895, 0.2776470588235294, 0.255050505050505, 0.858974358974359, 0.4698412698412698, 0.4166666666666667, 0.4718614718614719]\n",
      "dddddddddddddddd\n",
      "{<function accuracy at 0x113472268>: (0.46755952380952387, 0.024397764314058958), <function f1_score at 0x111ad2620>: (0.42830086567813247, 0.02603676621407178), <function precision_score at 0x111ad2840>: (0.4342620937263794, 0.027678166015503363), <function recall_score at 0x111ad28c8>: (0.4717403628117913, 0.02522631147130055)}\n",
      "[0.25757575757575757, 0.4311111111111111, 0.5416666666666666, 0.38, 0.5, 0.6472222222222223, 0.3784090909090909, 0.4133333333333333, 0.31666666666666665, 0.5, 0.2435897435897436, 0.3051948051948052, 0.23333333333333334, 0.2896825396825397, 0.1873015873015873]\n",
      "dddddddddddddddd\n",
      "{<function accuracy at 0x113472268>: (0.45206349206349206, 0.013304509952129001), <function f1_score at 0x111ad2620>: (0.37500579050579047, 0.015979939832605518), <function precision_score at 0x111ad2840>: (0.38132539682539673, 0.01709529894179894), <function recall_score at 0x111ad28c8>: (0.4283068783068783, 0.02673890708546793)}\n",
      "[0.22222222222222224, 0.14444444444444443, 0.3916666666666667, 0.46296296296296297, 0.26, 0.4787878787878788, 0.21025641025641026, 0.39090909090909093, 0.3416666666666667, 0.5292207792207793, 0.40909090909090906, 0.41666666666666663, 0.39999999999999997, 0.22685185185185186, 0.4740740740740741, 0.5777777777777778]\n",
      "dddddddddddddddd\n",
      "{<function accuracy at 0x113472268>: (0.46291208791208793, 0.01944398321458761), <function f1_score at 0x111ad2620>: (0.3710374000999001, 0.014809515407774193), <function precision_score at 0x111ad2840>: (0.3944440310846561, 0.019042995325692244), <function recall_score at 0x111ad28c8>: (0.4179898313492063, 0.018713751826595078)}\n",
      "[0.4533333333333333, 0.39047619047619053, 0.4133333333333333, 0.45740740740740743, 0.33333333333333337, 0.4017857142857143, 0.6266666666666667, 0.6666666666666666, 0.4, 0.49444444444444446, 0.3557692307692307, 0.19999999999999998, 0.44642857142857145, 0.4444444444444445, 0.24666666666666667, 0.44333333333333336, 0.2619047619047619]\n",
      "dddddddddddddddd\n",
      "{<function accuracy at 0x113472268>: (0.46644042232277527, 0.020277533220040538), <function f1_score at 0x111ad2620>: (0.4138820057937705, 0.01350207087382758), <function precision_score at 0x111ad2840>: (0.4233963585434174, 0.023539781293781127), <function recall_score at 0x111ad28c8>: (0.4628408029878618, 0.016589730532735967)}\n",
      "[0.13888888888888887, 0.5499999999999999, 0.475, 0.3803418803418803, 0.5476190476190477, 0.5833333333333334, 0.37142857142857144, 0.22285714285714286, 0.5866666666666667, 0.4222222222222222, 0.5286195286195287, 0.4545454545454546, 0.27777777777777773, 0.4714285714285714, 0.39515151515151514, 0.36666666666666664, 0.375, 0.29166666666666663]\n",
      "dddddddddddddddd\n",
      "{<function accuracy at 0x113472268>: (0.47558922558922556, 0.019217143375392532), <function f1_score at 0x111ad2620>: (0.41328966301188524, 0.01497234988593142), <function precision_score at 0x111ad2840>: (0.45109163727219287, 0.02677611428031083), <function recall_score at 0x111ad28c8>: (0.45694444444444454, 0.019401577503429353)}\n",
      "[0.5666666666666667, 0.4545454545454546, 0.6428571428571428, 0.4205128205128205, 0.34722222222222215, 0.26, 0.42857142857142866, 0.4424242424242424, 0.4034090909090909, 0.38636363636363635, 0.14285714285714285, 0.2888888888888888, 0.58, 0.25142857142857145, 0.5071428571428571, 0.37333333333333335, 0.25384615384615383, 0.45, 0.4333333333333333]\n",
      "dddddddddddddddd\n",
      "{<function accuracy at 0x113472268>: (0.4748803827751196, 0.010409433035975465), <function f1_score at 0x111ad2620>: (0.4017580518896309, 0.015020957634225934), <function precision_score at 0x111ad2840>: (0.4313210108604846, 0.016892084929411386), <function recall_score at 0x111ad28c8>: (0.4525563909774436, 0.018977494880685425)}\n"
     ]
    },
    {
     "data": {
      "image/png": "[encoded data removed]",
      "text/plain": [
       "<matplotlib.figure.Figure at 0x114891e48>"
      ]
     },
     "metadata": {},
     "output_type": "display_data"
    }
   ],
   "source": [
    "\n",
    "scores = []\n",
    "folds = np.arange(2, 20)\n",
    "for i in folds:\n",
    "    scores.append(model_selection(data_set['data'], data_set['target'], model, metrics, i))\n",
    "\n",
    "for metric in metrics:\n",
    "    means = [score[metric][0] for score in scores]\n",
    "    deviations = [score[metric][1] for score in scores]\n",
    "    plt.errorbar(folds, means, deviations, label=metric.__name__)\n",
    "\n",
    "    \n",
    "plt.ylim((0.0, 0.8))\n",
    "plt.title(\"Metrics values depend on cross validation folds. Discretization with {} values.\".format(k))\n",
    "plt.xlabel(\"Cross Validation Folds\")\n",
    "plt.ylabel(\"Value\")\n",
    "plt.legend()\n",
    "plt.show()"
   ]
  },
  {
   "cell_type": "code",
   "execution_count": null,
   "metadata": {},
   "outputs": [],
   "source": []
  },
  {
   "cell_type": "code",
   "execution_count": 165,
   "metadata": {},
   "outputs": [],
   "source": [
    "tables = pd.DataFrame(columns=['{}-F'.format(k) for k in folds], index=['accuracy','f1_score','precission', 'recall'])\n",
    "\n",
    "for k in folds:\n",
    "    tables['{}-F'.format(k)] = pd.Series({'accuracy': make_value(scores[k-2][metrics[0]]),\n",
    "                                          'f1_score': make_value(scores[k-2][metrics[1]]),\n",
    "                                          'precission': make_value(scores[k-2][metrics[2]]),\n",
    "                                          'recall': make_value(scores[k-2][metrics[3]])})"
   ]
  },
  {
   "cell_type": "code",
   "execution_count": 166,
   "metadata": {},
   "outputs": [
    {
     "data": {
      "text/html": [
       "<div>\n",
       "<style scoped>\n",
       "    .dataframe tbody tr th:only-of-type {\n",
       "        vertical-align: middle;\n",
       "    }\n",
       "\n",
       "    .dataframe tbody tr th {\n",
       "        vertical-align: top;\n",
       "    }\n",
       "\n",
       "    .dataframe thead th {\n",
       "        text-align: right;\n",
       "    }\n",
       "</style>\n",
       "<table border=\"1\" class=\"dataframe\">\n",
       "  <thead>\n",
       "    <tr style=\"text-align: right;\">\n",
       "      <th></th>\n",
       "      <th>2-F</th>\n",
       "      <th>3-F</th>\n",
       "      <th>4-F</th>\n",
       "      <th>5-F</th>\n",
       "      <th>6-F</th>\n",
       "      <th>7-F</th>\n",
       "      <th>8-F</th>\n",
       "      <th>9-F</th>\n",
       "      <th>10-F</th>\n",
       "      <th>11-F</th>\n",
       "      <th>12-F</th>\n",
       "      <th>13-F</th>\n",
       "      <th>14-F</th>\n",
       "      <th>15-F</th>\n",
       "      <th>16-F</th>\n",
       "      <th>17-F</th>\n",
       "      <th>18-F</th>\n",
       "      <th>19-F</th>\n",
       "    </tr>\n",
       "  </thead>\n",
       "  <tbody>\n",
       "    <tr>\n",
       "      <th>accuracy</th>\n",
       "      <td>0.3785 +/- 0.0000</td>\n",
       "      <td>0.3692 +/- 0.0040</td>\n",
       "      <td>0.3973 +/- 0.0083</td>\n",
       "      <td>0.3832 +/- 0.0021</td>\n",
       "      <td>0.4058 +/- 0.0093</td>\n",
       "      <td>0.4009 +/- 0.0077</td>\n",
       "      <td>0.4071 +/- 0.0061</td>\n",
       "      <td>0.4012 +/- 0.0050</td>\n",
       "      <td>0.3983 +/- 0.0116</td>\n",
       "      <td>0.4112 +/- 0.0104</td>\n",
       "      <td>0.4014 +/- 0.0145</td>\n",
       "      <td>0.3979 +/- 0.0101</td>\n",
       "      <td>0.4074 +/- 0.0062</td>\n",
       "      <td>0.4298 +/- 0.0220</td>\n",
       "      <td>0.4179 +/- 0.0142</td>\n",
       "      <td>0.3978 +/- 0.0155</td>\n",
       "      <td>0.4074 +/- 0.0156</td>\n",
       "      <td>0.4071 +/- 0.0216</td>\n",
       "    </tr>\n",
       "    <tr>\n",
       "      <th>f1_score</th>\n",
       "      <td>0.3256 +/- 0.0000</td>\n",
       "      <td>0.3351 +/- 0.0017</td>\n",
       "      <td>0.3912 +/- 0.0067</td>\n",
       "      <td>0.3488 +/- 0.0022</td>\n",
       "      <td>0.3778 +/- 0.0129</td>\n",
       "      <td>0.3605 +/- 0.0124</td>\n",
       "      <td>0.3295 +/- 0.0067</td>\n",
       "      <td>0.3668 +/- 0.0146</td>\n",
       "      <td>0.3575 +/- 0.0204</td>\n",
       "      <td>0.3386 +/- 0.0070</td>\n",
       "      <td>0.3494 +/- 0.0141</td>\n",
       "      <td>0.3425 +/- 0.0125</td>\n",
       "      <td>0.3431 +/- 0.0112</td>\n",
       "      <td>0.3544 +/- 0.0246</td>\n",
       "      <td>0.3315 +/- 0.0129</td>\n",
       "      <td>0.3047 +/- 0.0236</td>\n",
       "      <td>0.3013 +/- 0.0129</td>\n",
       "      <td>0.2971 +/- 0.0149</td>\n",
       "    </tr>\n",
       "    <tr>\n",
       "      <th>precission</th>\n",
       "      <td>0.3346 +/- 0.0002</td>\n",
       "      <td>0.3258 +/- 0.0024</td>\n",
       "      <td>0.3922 +/- 0.0031</td>\n",
       "      <td>0.3552 +/- 0.0041</td>\n",
       "      <td>0.3822 +/- 0.0114</td>\n",
       "      <td>0.3823 +/- 0.0122</td>\n",
       "      <td>0.3345 +/- 0.0056</td>\n",
       "      <td>0.3936 +/- 0.0105</td>\n",
       "      <td>0.3883 +/- 0.0154</td>\n",
       "      <td>0.3579 +/- 0.0165</td>\n",
       "      <td>0.3862 +/- 0.0148</td>\n",
       "      <td>0.3843 +/- 0.0147</td>\n",
       "      <td>0.3715 +/- 0.0111</td>\n",
       "      <td>0.3931 +/- 0.0263</td>\n",
       "      <td>0.3716 +/- 0.0123</td>\n",
       "      <td>0.3295 +/- 0.0253</td>\n",
       "      <td>0.3315 +/- 0.0166</td>\n",
       "      <td>0.3255 +/- 0.0188</td>\n",
       "    </tr>\n",
       "    <tr>\n",
       "      <th>recall</th>\n",
       "      <td>0.3895 +/- 0.0005</td>\n",
       "      <td>0.4338 +/- 0.0009</td>\n",
       "      <td>0.5154 +/- 0.0132</td>\n",
       "      <td>0.4322 +/- 0.0022</td>\n",
       "      <td>0.4291 +/- 0.0168</td>\n",
       "      <td>0.4103 +/- 0.0176</td>\n",
       "      <td>0.3818 +/- 0.0139</td>\n",
       "      <td>0.4051 +/- 0.0243</td>\n",
       "      <td>0.3888 +/- 0.0247</td>\n",
       "      <td>0.4048 +/- 0.0079</td>\n",
       "      <td>0.3900 +/- 0.0181</td>\n",
       "      <td>0.3692 +/- 0.0162</td>\n",
       "      <td>0.4076 +/- 0.0173</td>\n",
       "      <td>0.3798 +/- 0.0293</td>\n",
       "      <td>0.3563 +/- 0.0185</td>\n",
       "      <td>0.3111 +/- 0.0287</td>\n",
       "      <td>0.3312 +/- 0.0194</td>\n",
       "      <td>0.3090 +/- 0.0164</td>\n",
       "    </tr>\n",
       "  </tbody>\n",
       "</table>\n",
       "</div>"
      ],
      "text/plain": [
       "                          2-F                3-F                4-F  \\\n",
       "accuracy    0.3785 +/- 0.0000  0.3692 +/- 0.0040  0.3973 +/- 0.0083   \n",
       "f1_score    0.3256 +/- 0.0000  0.3351 +/- 0.0017  0.3912 +/- 0.0067   \n",
       "precission  0.3346 +/- 0.0002  0.3258 +/- 0.0024  0.3922 +/- 0.0031   \n",
       "recall      0.3895 +/- 0.0005  0.4338 +/- 0.0009  0.5154 +/- 0.0132   \n",
       "\n",
       "                          5-F                6-F                7-F  \\\n",
       "accuracy    0.3832 +/- 0.0021  0.4058 +/- 0.0093  0.4009 +/- 0.0077   \n",
       "f1_score    0.3488 +/- 0.0022  0.3778 +/- 0.0129  0.3605 +/- 0.0124   \n",
       "precission  0.3552 +/- 0.0041  0.3822 +/- 0.0114  0.3823 +/- 0.0122   \n",
       "recall      0.4322 +/- 0.0022  0.4291 +/- 0.0168  0.4103 +/- 0.0176   \n",
       "\n",
       "                          8-F                9-F               10-F  \\\n",
       "accuracy    0.4071 +/- 0.0061  0.4012 +/- 0.0050  0.3983 +/- 0.0116   \n",
       "f1_score    0.3295 +/- 0.0067  0.3668 +/- 0.0146  0.3575 +/- 0.0204   \n",
       "precission  0.3345 +/- 0.0056  0.3936 +/- 0.0105  0.3883 +/- 0.0154   \n",
       "recall      0.3818 +/- 0.0139  0.4051 +/- 0.0243  0.3888 +/- 0.0247   \n",
       "\n",
       "                         11-F               12-F               13-F  \\\n",
       "accuracy    0.4112 +/- 0.0104  0.4014 +/- 0.0145  0.3979 +/- 0.0101   \n",
       "f1_score    0.3386 +/- 0.0070  0.3494 +/- 0.0141  0.3425 +/- 0.0125   \n",
       "precission  0.3579 +/- 0.0165  0.3862 +/- 0.0148  0.3843 +/- 0.0147   \n",
       "recall      0.4048 +/- 0.0079  0.3900 +/- 0.0181  0.3692 +/- 0.0162   \n",
       "\n",
       "                         14-F               15-F               16-F  \\\n",
       "accuracy    0.4074 +/- 0.0062  0.4298 +/- 0.0220  0.4179 +/- 0.0142   \n",
       "f1_score    0.3431 +/- 0.0112  0.3544 +/- 0.0246  0.3315 +/- 0.0129   \n",
       "precission  0.3715 +/- 0.0111  0.3931 +/- 0.0263  0.3716 +/- 0.0123   \n",
       "recall      0.4076 +/- 0.0173  0.3798 +/- 0.0293  0.3563 +/- 0.0185   \n",
       "\n",
       "                         17-F               18-F               19-F  \n",
       "accuracy    0.3978 +/- 0.0155  0.4074 +/- 0.0156  0.4071 +/- 0.0216  \n",
       "f1_score    0.3047 +/- 0.0236  0.3013 +/- 0.0129  0.2971 +/- 0.0149  \n",
       "precission  0.3295 +/- 0.0253  0.3315 +/- 0.0166  0.3255 +/- 0.0188  \n",
       "recall      0.3111 +/- 0.0287  0.3312 +/- 0.0194  0.3090 +/- 0.0164  "
      ]
     },
     "execution_count": 166,
     "metadata": {},
     "output_type": "execute_result"
    }
   ],
   "source": [
    "tables"
   ]
  },
  {
   "cell_type": "code",
   "execution_count": 14,
   "metadata": {},
   "outputs": [],
   "source": []
  },
  {
   "cell_type": "code",
   "execution_count": 17,
   "metadata": {},
   "outputs": [
    {
     "data": {
      "text/plain": [
       "(214, 9)"
      ]
     },
     "execution_count": 17,
     "metadata": {},
     "output_type": "execute_result"
    }
   ],
   "source": []
  },
  {
   "cell_type": "code",
   "execution_count": 21,
   "metadata": {},
   "outputs": [],
   "source": []
  },
  {
   "cell_type": "code",
   "execution_count": 22,
   "metadata": {},
   "outputs": [
    {
     "data": {
      "text/plain": [
       "array([[1., 1., 3., ..., 1., 0., 0.],\n",
       "       [1., 1., 3., ..., 0., 0., 0.],\n",
       "       [0., 1., 3., ..., 0., 0., 0.],\n",
       "       ...,\n",
       "       [1., 2., 0., ..., 1., 2., 0.],\n",
       "       [0., 2., 0., ..., 1., 1., 0.],\n",
       "       [1., 2., 0., ..., 1., 2., 0.]])"
      ]
     },
     "execution_count": 22,
     "metadata": {},
     "output_type": "execute_result"
    }
   ],
   "source": []
  },
  {
   "cell_type": "code",
   "execution_count": null,
   "metadata": {},
   "outputs": [],
   "source": []
  },
  {
   "cell_type": "code",
   "execution_count": null,
   "metadata": {},
   "outputs": [],
   "source": []
  },
  {
   "cell_type": "code",
   "execution_count": null,
   "metadata": {},
   "outputs": [],
   "source": []
  }
 ],
 "metadata": {
  "kernelspec": {
   "display_name": "Python 3",
   "language": "python",
   "name": "python3"
  },
  "language_info": {
   "codemirror_mode": {
    "name": "ipython",
    "version": 3
   },
   "file_extension": ".py",
   "mimetype": "text/x-python",
   "name": "python",
   "nbconvert_exporter": "python",
   "pygments_lexer": "ipython3",
   "version": "3.6.2"
  }
 },
 "nbformat": 4,
 "nbformat_minor": 2
}
